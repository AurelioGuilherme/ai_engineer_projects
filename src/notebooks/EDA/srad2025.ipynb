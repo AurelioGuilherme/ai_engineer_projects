{
 "cells": [
  {
   "cell_type": "code",
   "execution_count": 1,
   "id": "7d684fe1",
   "metadata": {},
   "outputs": [],
   "source": [
    "import os\n",
    "from pathlib import Path\n",
    "\n",
    "import pandas as pd"
   ]
  },
  {
   "cell_type": "code",
   "execution_count": 2,
   "id": "eabecdda",
   "metadata": {},
   "outputs": [],
   "source": [
    "# Caminho absoluto até o diretório do arquivo atual\n",
    "current_path = Path(\"__file__\").resolve()\n",
    "project_root = current_path.parent.parent.parent.parent\n",
    "file = os.path.join(project_root, \"data/srag_csvs\", \"INFLUD19-26-06-2025.csv\")"
   ]
  },
  {
   "cell_type": "code",
   "execution_count": 3,
   "id": "bf700297",
   "metadata": {},
   "outputs": [
    {
     "name": "stderr",
     "output_type": "stream",
     "text": [
      "C:\\Users\\aurelio.silva_indici\\AppData\\Local\\Temp\\ipykernel_10488\\984421930.py:1: DtypeWarning: Columns (92,94,115,117,118,119,121,122,129,130,144,147,150,155,159,160,161,162,163,164,165,166,167,168,169,170,171,172,173,174,175,176) have mixed types. Specify dtype option on import or set low_memory=False.\n",
      "  df = pd.read_csv(file, sep=\";\")\n"
     ]
    },
    {
     "data": {
      "text/html": [
       "<div>\n",
       "<style scoped>\n",
       "    .dataframe tbody tr th:only-of-type {\n",
       "        vertical-align: middle;\n",
       "    }\n",
       "\n",
       "    .dataframe tbody tr th {\n",
       "        vertical-align: top;\n",
       "    }\n",
       "\n",
       "    .dataframe thead th {\n",
       "        text-align: right;\n",
       "    }\n",
       "</style>\n",
       "<table border=\"1\" class=\"dataframe\">\n",
       "  <thead>\n",
       "    <tr style=\"text-align: right;\">\n",
       "      <th></th>\n",
       "      <th>NU_NOTIFIC</th>\n",
       "      <th>DT_NOTIFIC</th>\n",
       "      <th>SEM_NOT</th>\n",
       "      <th>DT_SIN_PRI</th>\n",
       "      <th>SEM_PRI</th>\n",
       "      <th>SG_UF_NOT</th>\n",
       "      <th>ID_REGIONA</th>\n",
       "      <th>CO_REGIONA</th>\n",
       "      <th>ID_MUNICIP</th>\n",
       "      <th>CO_MUN_NOT</th>\n",
       "      <th>...</th>\n",
       "      <th>VG_OMS</th>\n",
       "      <th>VG_OMSOUT</th>\n",
       "      <th>VG_LIN</th>\n",
       "      <th>VG_MET</th>\n",
       "      <th>VG_METOUT</th>\n",
       "      <th>VG_DTRES</th>\n",
       "      <th>VG_ENC</th>\n",
       "      <th>VG_REINF</th>\n",
       "      <th>VG_CODEST</th>\n",
       "      <th>REINF</th>\n",
       "    </tr>\n",
       "  </thead>\n",
       "  <tbody>\n",
       "    <tr>\n",
       "      <th>0</th>\n",
       "      <td>315478195042</td>\n",
       "      <td>2019-01-10</td>\n",
       "      <td>2</td>\n",
       "      <td>2019-01-06</td>\n",
       "      <td>2</td>\n",
       "      <td>MG</td>\n",
       "      <td>BELO HORIZONTE</td>\n",
       "      <td>1449.0</td>\n",
       "      <td>BELO HORIZONTE</td>\n",
       "      <td>310620.0</td>\n",
       "      <td>...</td>\n",
       "      <td>NaN</td>\n",
       "      <td>NaN</td>\n",
       "      <td>NaN</td>\n",
       "      <td>NaN</td>\n",
       "      <td>NaN</td>\n",
       "      <td>NaN</td>\n",
       "      <td>NaN</td>\n",
       "      <td>NaN</td>\n",
       "      <td>NaN</td>\n",
       "      <td>NaN</td>\n",
       "    </tr>\n",
       "    <tr>\n",
       "      <th>1</th>\n",
       "      <td>315478195276</td>\n",
       "      <td>2019-01-03</td>\n",
       "      <td>1</td>\n",
       "      <td>2019-01-01</td>\n",
       "      <td>1</td>\n",
       "      <td>SP</td>\n",
       "      <td>GVE I CAPITAL</td>\n",
       "      <td>1331.0</td>\n",
       "      <td>SAO PAULO</td>\n",
       "      <td>355030.0</td>\n",
       "      <td>...</td>\n",
       "      <td>NaN</td>\n",
       "      <td>NaN</td>\n",
       "      <td>NaN</td>\n",
       "      <td>NaN</td>\n",
       "      <td>NaN</td>\n",
       "      <td>NaN</td>\n",
       "      <td>NaN</td>\n",
       "      <td>NaN</td>\n",
       "      <td>NaN</td>\n",
       "      <td>NaN</td>\n",
       "    </tr>\n",
       "    <tr>\n",
       "      <th>2</th>\n",
       "      <td>315478207219</td>\n",
       "      <td>2019-01-02</td>\n",
       "      <td>1</td>\n",
       "      <td>2018-12-31</td>\n",
       "      <td>1</td>\n",
       "      <td>PE</td>\n",
       "      <td>001</td>\n",
       "      <td>1497.0</td>\n",
       "      <td>RECIFE</td>\n",
       "      <td>261160.0</td>\n",
       "      <td>...</td>\n",
       "      <td>NaN</td>\n",
       "      <td>NaN</td>\n",
       "      <td>NaN</td>\n",
       "      <td>NaN</td>\n",
       "      <td>NaN</td>\n",
       "      <td>NaN</td>\n",
       "      <td>NaN</td>\n",
       "      <td>NaN</td>\n",
       "      <td>NaN</td>\n",
       "      <td>NaN</td>\n",
       "    </tr>\n",
       "    <tr>\n",
       "      <th>3</th>\n",
       "      <td>315478211086</td>\n",
       "      <td>2019-01-10</td>\n",
       "      <td>2</td>\n",
       "      <td>2019-01-07</td>\n",
       "      <td>2</td>\n",
       "      <td>SP</td>\n",
       "      <td>GVE XVII CAMPINAS</td>\n",
       "      <td>1342.0</td>\n",
       "      <td>CAMPINAS</td>\n",
       "      <td>350950.0</td>\n",
       "      <td>...</td>\n",
       "      <td>NaN</td>\n",
       "      <td>NaN</td>\n",
       "      <td>NaN</td>\n",
       "      <td>NaN</td>\n",
       "      <td>NaN</td>\n",
       "      <td>NaN</td>\n",
       "      <td>NaN</td>\n",
       "      <td>NaN</td>\n",
       "      <td>NaN</td>\n",
       "      <td>NaN</td>\n",
       "    </tr>\n",
       "    <tr>\n",
       "      <th>4</th>\n",
       "      <td>315478212765</td>\n",
       "      <td>2019-01-11</td>\n",
       "      <td>2</td>\n",
       "      <td>2019-01-06</td>\n",
       "      <td>2</td>\n",
       "      <td>PE</td>\n",
       "      <td>004</td>\n",
       "      <td>1499.0</td>\n",
       "      <td>CARUARU</td>\n",
       "      <td>260410.0</td>\n",
       "      <td>...</td>\n",
       "      <td>NaN</td>\n",
       "      <td>NaN</td>\n",
       "      <td>NaN</td>\n",
       "      <td>NaN</td>\n",
       "      <td>NaN</td>\n",
       "      <td>NaN</td>\n",
       "      <td>NaN</td>\n",
       "      <td>NaN</td>\n",
       "      <td>NaN</td>\n",
       "      <td>NaN</td>\n",
       "    </tr>\n",
       "  </tbody>\n",
       "</table>\n",
       "<p>5 rows × 194 columns</p>\n",
       "</div>"
      ],
      "text/plain": [
       "     NU_NOTIFIC  DT_NOTIFIC  SEM_NOT  DT_SIN_PRI  SEM_PRI SG_UF_NOT  \\\n",
       "0  315478195042  2019-01-10        2  2019-01-06        2        MG   \n",
       "1  315478195276  2019-01-03        1  2019-01-01        1        SP   \n",
       "2  315478207219  2019-01-02        1  2018-12-31        1        PE   \n",
       "3  315478211086  2019-01-10        2  2019-01-07        2        SP   \n",
       "4  315478212765  2019-01-11        2  2019-01-06        2        PE   \n",
       "\n",
       "          ID_REGIONA  CO_REGIONA      ID_MUNICIP  CO_MUN_NOT  ... VG_OMS  \\\n",
       "0     BELO HORIZONTE      1449.0  BELO HORIZONTE    310620.0  ...    NaN   \n",
       "1      GVE I CAPITAL      1331.0       SAO PAULO    355030.0  ...    NaN   \n",
       "2                001      1497.0          RECIFE    261160.0  ...    NaN   \n",
       "3  GVE XVII CAMPINAS      1342.0        CAMPINAS    350950.0  ...    NaN   \n",
       "4                004      1499.0         CARUARU    260410.0  ...    NaN   \n",
       "\n",
       "  VG_OMSOUT  VG_LIN  VG_MET  VG_METOUT  VG_DTRES  VG_ENC VG_REINF  VG_CODEST  \\\n",
       "0       NaN     NaN     NaN        NaN       NaN     NaN      NaN        NaN   \n",
       "1       NaN     NaN     NaN        NaN       NaN     NaN      NaN        NaN   \n",
       "2       NaN     NaN     NaN        NaN       NaN     NaN      NaN        NaN   \n",
       "3       NaN     NaN     NaN        NaN       NaN     NaN      NaN        NaN   \n",
       "4       NaN     NaN     NaN        NaN       NaN     NaN      NaN        NaN   \n",
       "\n",
       "  REINF  \n",
       "0   NaN  \n",
       "1   NaN  \n",
       "2   NaN  \n",
       "3   NaN  \n",
       "4   NaN  \n",
       "\n",
       "[5 rows x 194 columns]"
      ]
     },
     "execution_count": 3,
     "metadata": {},
     "output_type": "execute_result"
    }
   ],
   "source": [
    "df = pd.read_csv(file, sep=\";\")\n",
    "df.head()"
   ]
  },
  {
   "cell_type": "code",
   "execution_count": 4,
   "id": "2bb82750",
   "metadata": {},
   "outputs": [
    {
     "data": {
      "text/plain": [
       "(48961, 194)"
      ]
     },
     "execution_count": 4,
     "metadata": {},
     "output_type": "execute_result"
    }
   ],
   "source": [
    "df.shape"
   ]
  },
  {
   "cell_type": "markdown",
   "id": "53d7ca25",
   "metadata": {},
   "source": [
    "### Analise de colunas"
   ]
  },
  {
   "cell_type": "markdown",
   "id": "9854cc6e",
   "metadata": {},
   "source": [
    "#### 0 - 10\n",
    "\n",
    "| # | Column     | Non-Null Count | Dtype   |\n",
    "| - | ---------- | -------------- | ------- |\n",
    "| 0 | NU_NOTIFIC | 48961 non-null | int64   |\n",
    "| 1 | DT_NOTIFIC | 48961 non-null | object  |\n",
    "| 2 | SEM_NOT    | 48961 non-null | int64   |\n",
    "| 3 | DT_SIN_PRI | 48961 non-null | object  |\n",
    "| 4 | SEM_PRI    | 48961 non-null | int64   |\n",
    "| 5 | SG_UF_NOT  | 48919 non-null | object  |\n",
    "| 6 | ID_REGIONA | 44025 non-null | object  |\n",
    "| 7 | CO_REGIONA | 44025 non-null | float64 |\n",
    "| 8 | ID_MUNICIP | 48919 non-null | object  |\n",
    "| 9 | CO_MUN_NOT | 48919 non-null | float64 |"
   ]
  },
  {
   "cell_type": "code",
   "execution_count": 17,
   "id": "9e9aa016",
   "metadata": {},
   "outputs": [
    {
     "name": "stdout",
     "output_type": "stream",
     "text": [
      "<class 'pandas.core.frame.DataFrame'>\n",
      "RangeIndex: 48961 entries, 0 to 48960\n",
      "Data columns (total 10 columns):\n",
      " #   Column      Non-Null Count  Dtype  \n",
      "---  ------      --------------  -----  \n",
      " 0   NU_NOTIFIC  48961 non-null  int64  \n",
      " 1   DT_NOTIFIC  48961 non-null  object \n",
      " 2   SEM_NOT     48961 non-null  int64  \n",
      " 3   DT_SIN_PRI  48961 non-null  object \n",
      " 4   SEM_PRI     48961 non-null  int64  \n",
      " 5   SG_UF_NOT   48919 non-null  object \n",
      " 6   ID_REGIONA  44025 non-null  object \n",
      " 7   CO_REGIONA  44025 non-null  float64\n",
      " 8   ID_MUNICIP  48919 non-null  object \n",
      " 9   CO_MUN_NOT  48919 non-null  float64\n",
      "dtypes: float64(2), int64(3), object(5)\n",
      "memory usage: 3.7+ MB\n"
     ]
    }
   ],
   "source": [
    "df.iloc[:,0:10].info()"
   ]
  },
  {
   "cell_type": "markdown",
   "id": "6e426efe",
   "metadata": {},
   "source": [
    "#### 10-20"
   ]
  },
  {
   "cell_type": "markdown",
   "id": "d6b3ddc7",
   "metadata": {},
   "source": [
    "| # | Column     | Non-Null Count | Dtype   |\n",
    "| - | ---------- | -------------- | ------- |\n",
    "| 0 | CS_SEXO    | 48961 non-null | object  |\n",
    "| 1 | DT_NASC    | 48797 non-null | object  |\n",
    "| 2 | NU_IDADE_N | 48961 non-null | int64   |\n",
    "| 3 | TP_IDADE   | 48961 non-null | int64   |\n",
    "| 4 | COD_IDADE  | 48961 non-null | int64   |\n",
    "| 5 | CS_GESTANT | 48961 non-null | int64   |\n",
    "| 6 | CS_RACA    | 47130 non-null | float64 |\n",
    "| 7 | CS_ETINIA  | 287 non-null   | object  |\n",
    "| 8 | CS_ESCOL_N | 45153 non-null | float64 |\n",
    "| 9 | ID_PAIS    | 48957 non-null | object  |\n"
   ]
  },
  {
   "cell_type": "code",
   "execution_count": 20,
   "id": "f3800214",
   "metadata": {},
   "outputs": [
    {
     "name": "stdout",
     "output_type": "stream",
     "text": [
      "<class 'pandas.core.frame.DataFrame'>\n",
      "RangeIndex: 48961 entries, 0 to 48960\n",
      "Data columns (total 10 columns):\n",
      " #   Column      Non-Null Count  Dtype  \n",
      "---  ------      --------------  -----  \n",
      " 0   CS_SEXO     48961 non-null  object \n",
      " 1   DT_NASC     48797 non-null  object \n",
      " 2   NU_IDADE_N  48961 non-null  int64  \n",
      " 3   TP_IDADE    48961 non-null  int64  \n",
      " 4   COD_IDADE   48961 non-null  int64  \n",
      " 5   CS_GESTANT  48961 non-null  int64  \n",
      " 6   CS_RACA     47130 non-null  float64\n",
      " 7   CS_ETINIA   287 non-null    object \n",
      " 8   CS_ESCOL_N  45153 non-null  float64\n",
      " 9   ID_PAIS     48957 non-null  object \n",
      "dtypes: float64(2), int64(4), object(4)\n",
      "memory usage: 3.7+ MB\n"
     ]
    }
   ],
   "source": [
    "df.iloc[:,10:20].info()"
   ]
  },
  {
   "cell_type": "markdown",
   "id": "9c6a0687",
   "metadata": {},
   "source": [
    "#### 20-30"
   ]
  },
  {
   "cell_type": "code",
   "execution_count": 25,
   "id": "9bf94277",
   "metadata": {},
   "outputs": [
    {
     "name": "stdout",
     "output_type": "stream",
     "text": [
      "<class 'pandas.core.frame.DataFrame'>\n",
      "RangeIndex: 48961 entries, 0 to 48960\n",
      "Data columns (total 10 columns):\n",
      " #   Column      Non-Null Count  Dtype  \n",
      "---  ------      --------------  -----  \n",
      " 0   CO_PAIS     48957 non-null  float64\n",
      " 1   SG_UF       48924 non-null  object \n",
      " 2   ID_RG_RESI  44623 non-null  object \n",
      " 3   CO_RG_RESI  44623 non-null  float64\n",
      " 4   ID_MN_RESI  48924 non-null  object \n",
      " 5   CO_MUN_RES  48924 non-null  float64\n",
      " 6   CS_ZONA     47713 non-null  float64\n",
      " 7   NOSOCOMIAL  46996 non-null  float64\n",
      " 8   AVE_SUINO   47204 non-null  float64\n",
      " 9   FEBRE       48740 non-null  float64\n",
      "dtypes: float64(7), object(3)\n",
      "memory usage: 3.7+ MB\n"
     ]
    }
   ],
   "source": [
    "df.iloc[:,20:30].info()"
   ]
  },
  {
   "cell_type": "markdown",
   "id": "ef745461",
   "metadata": {},
   "source": [
    "# End"
   ]
  }
 ],
 "metadata": {
  "kernelspec": {
   "display_name": "ai-engineer-projects",
   "language": "python",
   "name": "python3"
  },
  "language_info": {
   "codemirror_mode": {
    "name": "ipython",
    "version": 3
   },
   "file_extension": ".py",
   "mimetype": "text/x-python",
   "name": "python",
   "nbconvert_exporter": "python",
   "pygments_lexer": "ipython3",
   "version": "3.11.14"
  }
 },
 "nbformat": 4,
 "nbformat_minor": 5
}
